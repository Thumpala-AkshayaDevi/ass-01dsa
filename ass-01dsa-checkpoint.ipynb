{
 "cells": [
  {
   "cell_type": "code",
   "execution_count": 11,
   "id": "5d29f75c",
   "metadata": {},
   "outputs": [
    {
     "name": "stdout",
     "output_type": "stream",
     "text": [
      "Main linked list:\n",
      "1 -> 2 -> -3 -> 3 -> 1 -> None\n",
      "Modified linked list:\n",
      "3 -> 1 -> None\n"
     ]
    }
   ],
   "source": [
    "head = Node(1)\n",
    "head.next = Node(2)\n",
    "head.next.next = Node(-3)\n",
    "head.next.next.next = Node(3)\n",
    "head.next.next.next.next = Node(1)\n",
    "\n",
    "print(\"Main linked list:\")\n",
    "current = head\n",
    "while current:\n",
    "    print(current.data, end=\" -> \")\n",
    "    current = current.next\n",
    "print(\"None\")\n",
    "\n",
    "head = delete_zero_sum_nodes(head)\n",
    "\n",
    "print(\"Modified linked list:\")\n",
    "current = head\n",
    "while current:\n",
    "    print(current.data, end=\" -> \")\n",
    "    current = current.next\n",
    "print(\"None\")\n"
   ]
  },
  {
   "cell_type": "code",
   "execution_count": 19,
   "id": "d9d8eea8",
   "metadata": {},
   "outputs": [
    {
     "name": "stdout",
     "output_type": "stream",
     "text": [
      "Given linked list\n",
      "1 2 3 4 5 6 7 8 9 \n",
      "Reversed Linked list\n",
      "3 2 1 6 5 4 9 8 7 "
     ]
    }
   ],
   "source": [
    "class Node:\n",
    "    def __init__(self, data):\n",
    "        self.data = data\n",
    "        self.next = None\n",
    "class LinkedList:\n",
    "    def __init__(self):\n",
    "        self.head = None\n",
    "    def reverse(self, head, k):\n",
    "        if head == None:\n",
    "          return None\n",
    "        current = head\n",
    "        next = None\n",
    "        prev = None\n",
    "        count = 0\n",
    "        while(current is not None and count < k):\n",
    "            next = current.next\n",
    "            current.next = prev\n",
    "            prev = current\n",
    "            current = next\n",
    "            count += 1\n",
    "        if next is not None:\n",
    "            head.next = self.reverse(next, k)\n",
    "        return prev\n",
    "    def push(self, new_data):\n",
    "        new_node = Node(new_data)\n",
    "        new_node.next = self.head\n",
    "        self.head = new_node\n",
    "    def printList(self):\n",
    "        temp = self.head\n",
    "        while(temp):\n",
    "            print(temp.data,end=' ')\n",
    "            temp = temp.next\n",
    "llist = LinkedList()\n",
    "llist.push(9)\n",
    "llist.push(8)\n",
    "llist.push(7)\n",
    "llist.push(6)\n",
    "llist.push(5)\n",
    "llist.push(4)\n",
    "llist.push(3)\n",
    "llist.push(2)\n",
    "llist.push(1)\n",
    "  \n",
    "print(\"Given linked list\")\n",
    "llist.printList()\n",
    "llist.head = llist.reverse(llist.head, 3)\n",
    "  \n",
    "print (\"\\nReversed Linked list\")\n",
    "llist.printList()"
   ]
  },
  {
   "cell_type": "code",
   "execution_count": 20,
   "id": "bf0d3502",
   "metadata": {},
   "outputs": [
    {
     "name": "stdout",
     "output_type": "stream",
     "text": [
      "First Linked List:\n",
      "0\n",
      "1\n",
      "2\n",
      "3\n",
      "Second Linked List:\n",
      "4\n",
      "5\n",
      "6\n",
      "7\n",
      "8\n",
      "Modified first linked list:\n",
      "0\n",
      "4\n",
      "1\n",
      "5\n",
      "2\n",
      "6\n",
      "3\n",
      "7\n",
      "Modified second linked list:\n",
      "8\n"
     ]
    }
   ],
   "source": [
    "class Node(object):\n",
    "    def __init__(self, data:int):\n",
    "        self.data = data\n",
    "        self.next = None\n",
    "  \n",
    "  \n",
    "class LinkedList(object):\n",
    "    def __init__(self):\n",
    "        self.head = None\n",
    "          \n",
    "    def push(self, new_data:int):\n",
    "        new_node = Node(new_data)\n",
    "        new_node.next = self.head\n",
    "        self.head = new_node\n",
    "    def printList(self):\n",
    "        temp = self.head\n",
    "        while temp != None:\n",
    "            print(temp.data)\n",
    "            temp = temp.next\n",
    "    def merge(self, p, q):\n",
    "        p_curr = p.head\n",
    "        q_curr = q.head\n",
    "        while p_curr != None and q_curr != None:\n",
    "            p_next = p_curr.next\n",
    "            q_next = q_curr.next\n",
    "            q_curr.next = p_next  \n",
    "            p_curr.next = q_curr  \n",
    "            p_curr = p_next\n",
    "            q_curr = q_next\n",
    "            q.head = q_curr\n",
    "llist1 = LinkedList()\n",
    "llist2 = LinkedList()\n",
    "llist1.push(3)\n",
    "llist1.push(2)\n",
    "llist1.push(1)\n",
    "llist1.push(0)\n",
    "  \n",
    "\n",
    "for i in range(8, 3, -1):\n",
    "    llist2.push(i)\n",
    "  \n",
    "print(\"First Linked List:\")\n",
    "llist1.printList()\n",
    "  \n",
    "print(\"Second Linked List:\")\n",
    "llist2.printList()\n",
    "llist1.merge(p=llist1, q=llist2)\n",
    "  \n",
    "print(\"Modified first linked list:\")\n",
    "llist1.printList()\n",
    "  \n",
    "print(\"Modified second linked list:\")\n",
    "llist2.printList()"
   ]
  },
  {
   "cell_type": "code",
   "execution_count": 21,
   "id": "438898c1",
   "metadata": {},
   "outputs": [
    {
     "name": "stdout",
     "output_type": "stream",
     "text": [
      "Count of pairs is 3\n"
     ]
    }
   ],
   "source": [
    "def getPairsCount(arr, n, sum):\n",
    " \n",
    "    count = 0  \n",
    "    for i in range(0, n):\n",
    "        for j in range(i + 1, n):\n",
    "            if arr[i] + arr[j] == sum:\n",
    "                count += 1\n",
    " \n",
    "    return count\n",
    "arr = [1, 5, 7, -1, 5]\n",
    "n = len(arr)\n",
    "sum = 6\n",
    "print(\"Count of pairs is\",\n",
    "      getPairsCount(arr, n, sum))"
   ]
  },
  {
   "cell_type": "code",
   "execution_count": 22,
   "id": "b96d031f",
   "metadata": {},
   "outputs": [
    {
     "name": "stdout",
     "output_type": "stream",
     "text": [
      "[12, 11, 5] "
     ]
    }
   ],
   "source": [
    "def findDuplicates(arr, Len):\n",
    "    ifPresent = False\n",
    "    a1 = []\n",
    "    for i in range(Len - 1):\n",
    "        for j in range(i + 1, Len):\n",
    "            if (arr[i] == arr[j]):\n",
    "                if arr[i] in a1:\n",
    "                    break\n",
    "                else:\n",
    "                    a1.append(arr[i])\n",
    "                    ifPresent = True\n",
    "    if (ifPresent):\n",
    "        print(a1, end = \" \")\n",
    "    else:\n",
    "        print(\"No duplicates present in arrays\")\n",
    " \n",
    "# Driver Code\n",
    "arr = [ 12, 11, 40, 12, 5, 6, 5, 12, 11 ]\n",
    "n = len(arr)\n",
    " \n",
    "findDuplicates(arr, n)"
   ]
  },
  {
   "cell_type": "code",
   "execution_count": 23,
   "id": "cbcfa2f0",
   "metadata": {},
   "outputs": [
    {
     "name": "stdout",
     "output_type": "stream",
     "text": [
      "50 30 23 "
     ]
    }
   ],
   "source": [
    "def kLargest(arr, k):\n",
    "   \n",
    "    arr.sort(reverse=True)\n",
    "    for i in range(k):\n",
    "        print(arr[i], end=\" \")\n",
    "arr = [1, 23, 12, 9, 30, 2, 50]\n",
    "# n = len(arr)\n",
    "k = 3\n",
    "kLargest(arr, k)"
   ]
  },
  {
   "cell_type": "code",
   "execution_count": 24,
   "id": "5d791374",
   "metadata": {},
   "outputs": [
    {
     "name": "stdout",
     "output_type": "stream",
     "text": [
      "[1, 7, 5, 11, 6, -1, -3, -2]\n"
     ]
    }
   ],
   "source": [
    "def move(arr,n):\n",
    "    j = 0\n",
    "    ans=[None]*n\n",
    "    i=0;j=n-1\n",
    "    for k in range(n):\n",
    "        if arr[k]>=0:\n",
    "          ans[i]=arr[k]\n",
    "          i+=1\n",
    "        else:\n",
    "          ans[j]=arr[k]\n",
    "          j-=1\n",
    "    ans[i:]=ans[n-1:i-1:-1]\n",
    "    return ans\n",
    "arr = [1 ,-1 ,-3 , -2, 7, 5, 11, 6 ]\n",
    "n = len(arr)\n",
    "print(move(arr, n))"
   ]
  },
  {
   "cell_type": "code",
   "execution_count": 26,
   "id": "e421081a",
   "metadata": {},
   "outputs": [
    {
     "name": "stdout",
     "output_type": "stream",
     "text": [
      "Reversed string is ziuQskeeG\n"
     ]
    }
   ],
   "source": [
    "def createStack():\n",
    "    stack = []\n",
    "    return stack\n",
    "def size(stack):\n",
    "    return len(stack)\n",
    "def isEmpty(stack):\n",
    "    if size(stack) == 0:\n",
    "        return true\n",
    "def push(stack, item):\n",
    "    stack.append(item)\n",
    "def pop(stack):\n",
    "    if isEmpty(stack):\n",
    "        return\n",
    "    return stack.pop()\n",
    "def reverse(string):\n",
    "    n = len(string)\n",
    "    stack = createStack()\n",
    "    for i in range(0, n, 1):\n",
    "        push(stack, string[i])\n",
    "    string = \"\"\n",
    "    for i in range(0, n, 1):\n",
    "        string += pop(stack)\n",
    "    return string\n",
    "string = \"GeeksQuiz\"\n",
    "string = reverse(string)\n",
    "print(\"Reversed string is \" + string)"
   ]
  },
  {
   "cell_type": "code",
   "execution_count": 29,
   "id": "8db95eee",
   "metadata": {},
   "outputs": [
    {
     "name": "stdout",
     "output_type": "stream",
     "text": [
      "postfix evaluation: -4\n"
     ]
    }
   ],
   "source": [
    "class Evaluate:\n",
    "    def __init__(self, capacity):\n",
    "        self.top = -1\n",
    "        self.capacity = capacity\n",
    "        self.array = []\n",
    "    def isEmpty(self):\n",
    "        return True if self.top == -1 else False\n",
    "    def peek(self):\n",
    "        return self.array[-1]\n",
    "    def pop(self):\n",
    "        if not self.isEmpty():\n",
    "            self.top -= 1\n",
    "            return self.array.pop()\n",
    "        else:\n",
    "            return \"$\"\n",
    "    def push(self, op):\n",
    "        self.top += 1\n",
    "        self.array.append(op)\n",
    "    def evaluatePostfix(self, exp):\n",
    "        for i in exp:\n",
    "            if i.isdigit():\n",
    "                self.push(i)\n",
    "            else:\n",
    "                val1 = self.pop()\n",
    "                val2 = self.pop()\n",
    "                self.push(str(eval(val2 + i + val1)))\n",
    "        return int(self.pop())\n",
    "if __name__ == '__main__':\n",
    "    exp = \"231*+9-\"\n",
    "    obj = Evaluate(len(exp))\n",
    "\n",
    "    print(\"postfix evaluation: %d\" % (obj.evaluatePostfix(exp)))"
   ]
  },
  {
   "cell_type": "code",
   "execution_count": 30,
   "id": "326bcc6d",
   "metadata": {},
   "outputs": [
    {
     "name": "stdout",
     "output_type": "stream",
     "text": [
      "1\n",
      "2\n",
      "3\n"
     ]
    }
   ],
   "source": [
    "class Queue: \n",
    "    def __init__(self):\n",
    "        self.s1 = []\n",
    "        self.s2 = []\n",
    "  \n",
    "    def enQueue(self, x):\n",
    "        while len(self.s1) != 0: \n",
    "            self.s2.append(self.s1[-1]) \n",
    "            self.s1.pop()\n",
    "        self.s1.append(x) \n",
    "        while len(self.s2) != 0: \n",
    "            self.s1.append(self.s2[-1]) \n",
    "            self.s2.pop()\n",
    "    def deQueue(self):\n",
    "        if len(self.s1) == 0: \n",
    "            print(\"Q is Empty\")\n",
    "      \n",
    "        # Return top of self.s1 \n",
    "        x = self.s1[-1] \n",
    "        self.s1.pop() \n",
    "        return x\n",
    "if __name__ == '__main__':\n",
    "    q = Queue()\n",
    "    q.enQueue(1) \n",
    "    q.enQueue(2) \n",
    "    q.enQueue(3) \n",
    "  \n",
    "    print(q.deQueue())\n",
    "    print(q.deQueue())\n",
    "    print(q.deQueue())"
   ]
  },
  {
   "cell_type": "code",
   "execution_count": null,
   "id": "d171fca5",
   "metadata": {},
   "outputs": [],
   "source": []
  }
 ],
 "metadata": {
  "kernelspec": {
   "display_name": "Python 3 (ipykernel)",
   "language": "python",
   "name": "python3"
  },
  "language_info": {
   "codemirror_mode": {
    "name": "ipython",
    "version": 3
   },
   "file_extension": ".py",
   "mimetype": "text/x-python",
   "name": "python",
   "nbconvert_exporter": "python",
   "pygments_lexer": "ipython3",
   "version": "3.10.9"
  }
 },
 "nbformat": 4,
 "nbformat_minor": 5
}
